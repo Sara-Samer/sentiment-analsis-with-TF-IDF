{
  "nbformat": 4,
  "nbformat_minor": 0,
  "metadata": {
    "colab": {
      "name": "Sentiment analsis with TF-IDF and logistic regression.ipynb",
      "provenance": [],
      "collapsed_sections": [],
      "authorship_tag": "ABX9TyP6MLZ7VfIEs0XiO+5NA6df",
      "include_colab_link": true
    },
    "kernelspec": {
      "name": "python3",
      "display_name": "Python 3"
    },
    "language_info": {
      "name": "python"
    }
  },
  "cells": [
    {
      "cell_type": "markdown",
      "metadata": {
        "id": "view-in-github",
        "colab_type": "text"
      },
      "source": [
        "<a href=\"https://colab.research.google.com/github/Sara-Samer/sentiment-analsis-with-TF-IDF/blob/main/Sentiment_analsis_with_TF_IDF_and_logistic_regression.ipynb\" target=\"_parent\"><img src=\"https://colab.research.google.com/assets/colab-badge.svg\" alt=\"Open In Colab\"/></a>"
      ]
    },
    {
      "cell_type": "markdown",
      "metadata": {
        "id": "v_uV5jQUUelW"
      },
      "source": [
        "# Data manipulation"
      ]
    },
    {
      "cell_type": "markdown",
      "metadata": {
        "id": "07fjbrTqdSlv"
      },
      "source": [
        "## Google sheet setup\n",
        "---\n",
        "To work with google sheet directly without downloading the dataset  \n"
      ]
    },
    {
      "cell_type": "markdown",
      "metadata": {
        "id": "pZZ1EyQ-nb-B"
      },
      "source": [
        "google sheet link *(please click on this link first then run the notebook)*: [sheet](https://docs.google.com/spreadsheets/d/1rrlGMui0b2Xniac-YjUtnpq3KapdkXJtFaWEdkdtCNI/edit?usp=sharing)"
      ]
    },
    {
      "cell_type": "code",
      "metadata": {
        "id": "9KIs0bBdNPfW"
      },
      "source": [
        "from google.colab import auth\n",
        "auth.authenticate_user()"
      ],
      "execution_count": null,
      "outputs": []
    },
    {
      "cell_type": "code",
      "metadata": {
        "id": "hXnKWaR8NKik"
      },
      "source": [
        "import gspread\n",
        "from oauth2client.client import GoogleCredentials\n",
        "\n",
        "gc = gspread.authorize(GoogleCredentials.get_application_default())\n",
        "worksheet = gc.open('2k_reviews').sheet1\n",
        "\n",
        "# get_all_values gives a list of rows.\n",
        "rows = worksheet.get_all_values() # we will use this later is importing data"
      ],
      "execution_count": null,
      "outputs": []
    },
    {
      "cell_type": "markdown",
      "metadata": {
        "id": "AW8wUXcdUjG_"
      },
      "source": [
        "## imports"
      ]
    },
    {
      "cell_type": "code",
      "metadata": {
        "colab": {
          "base_uri": "https://localhost:8080/"
        },
        "id": "SPRKzv1-w3_Y",
        "outputId": "471e2997-77ed-44fc-931c-1beea22c7f48"
      },
      "source": [
        "!pip install contractions"
      ],
      "execution_count": null,
      "outputs": [
        {
          "output_type": "stream",
          "text": [
            "Collecting contractions\n",
            "  Downloading https://files.pythonhosted.org/packages/11/4d/378ab91284c2c3a06ab475b287721c09b7951d5ecb3edf4ffb0e1e7a568a/contractions-0.0.49-py2.py3-none-any.whl\n",
            "Collecting textsearch>=0.0.21\n",
            "  Downloading https://files.pythonhosted.org/packages/d3/fe/021d7d76961b5ceb9f8d022c4138461d83beff36c3938dc424586085e559/textsearch-0.0.21-py2.py3-none-any.whl\n",
            "Collecting anyascii\n",
            "\u001b[?25l  Downloading https://files.pythonhosted.org/packages/a3/14/666cd44bf53f36a961544af592cb5c5c800013f9c51a4745af8d7c17362a/anyascii-0.2.0-py3-none-any.whl (283kB)\n",
            "\u001b[K     |████████████████████████████████| 286kB 2.8MB/s \n",
            "\u001b[?25hCollecting pyahocorasick\n",
            "\u001b[?25l  Downloading https://files.pythonhosted.org/packages/7f/c2/eae730037ae1cbbfaa229d27030d1d5e34a1e41114b21447d1202ae9c220/pyahocorasick-1.4.2.tar.gz (321kB)\n",
            "\u001b[K     |████████████████████████████████| 327kB 32.1MB/s \n",
            "\u001b[?25hBuilding wheels for collected packages: pyahocorasick\n",
            "  Building wheel for pyahocorasick (setup.py) ... \u001b[?25l\u001b[?25hdone\n",
            "  Created wheel for pyahocorasick: filename=pyahocorasick-1.4.2-cp37-cp37m-linux_x86_64.whl size=85400 sha256=30d9fc480a7d7be63ad13739b96a35c11acfa7a39f40fb15612a09c46aa9716a\n",
            "  Stored in directory: /root/.cache/pip/wheels/3a/03/34/77e3ece0bba8b86bfac88a79f923b36d805cad63caeba38842\n",
            "Successfully built pyahocorasick\n",
            "Installing collected packages: anyascii, pyahocorasick, textsearch, contractions\n",
            "Successfully installed anyascii-0.2.0 contractions-0.0.49 pyahocorasick-1.4.2 textsearch-0.0.21\n"
          ],
          "name": "stdout"
        }
      ]
    },
    {
      "cell_type": "code",
      "metadata": {
        "colab": {
          "base_uri": "https://localhost:8080/"
        },
        "id": "DtiGbt-ZUBK8",
        "outputId": "afeb7341-24d1-4fd7-a65e-11dd2da5b004"
      },
      "source": [
        "import pandas as pd\n",
        "import re\n",
        "import nltk\n",
        "from nltk.stem.porter import PorterStemmer\n",
        "from nltk.stem import WordNetLemmatizer\n",
        "from nltk.corpus import stopwords\n",
        "from nltk.tokenize import word_tokenize\n",
        "from bs4 import BeautifulSoup\n",
        "import contractions\n",
        "from sklearn.feature_extraction.text import TfidfVectorizer \n",
        "from sklearn.model_selection import train_test_split\n",
        "from sklearn.linear_model import LogisticRegressionCV\n",
        "\n",
        "nltk.download('stopwords')\n",
        "nltk.download('wordnet')\n",
        "nltk.download('punkt')"
      ],
      "execution_count": null,
      "outputs": [
        {
          "output_type": "stream",
          "text": [
            "[nltk_data] Downloading package stopwords to /root/nltk_data...\n",
            "[nltk_data]   Package stopwords is already up-to-date!\n",
            "[nltk_data] Downloading package wordnet to /root/nltk_data...\n",
            "[nltk_data]   Package wordnet is already up-to-date!\n",
            "[nltk_data] Downloading package punkt to /root/nltk_data...\n",
            "[nltk_data]   Package punkt is already up-to-date!\n"
          ],
          "name": "stdout"
        },
        {
          "output_type": "execute_result",
          "data": {
            "text/plain": [
              "True"
            ]
          },
          "metadata": {
            "tags": []
          },
          "execution_count": 19
        }
      ]
    },
    {
      "cell_type": "markdown",
      "metadata": {
        "id": "SLskDzOhUGtZ"
      },
      "source": [
        "## Import data"
      ]
    },
    {
      "cell_type": "code",
      "metadata": {
        "colab": {
          "base_uri": "https://localhost:8080/",
          "height": 206
        },
        "id": "Fv4wIUtUWNev",
        "outputId": "49dbd67b-f749-466e-edca-e7ecd4e528ca"
      },
      "source": [
        "df = pd.DataFrame.from_records(rows[1:], columns=['review', 'sentiment'])\n",
        "df.head()"
      ],
      "execution_count": null,
      "outputs": [
        {
          "output_type": "execute_result",
          "data": {
            "text/html": [
              "<div>\n",
              "<style scoped>\n",
              "    .dataframe tbody tr th:only-of-type {\n",
              "        vertical-align: middle;\n",
              "    }\n",
              "\n",
              "    .dataframe tbody tr th {\n",
              "        vertical-align: top;\n",
              "    }\n",
              "\n",
              "    .dataframe thead th {\n",
              "        text-align: right;\n",
              "    }\n",
              "</style>\n",
              "<table border=\"1\" class=\"dataframe\">\n",
              "  <thead>\n",
              "    <tr style=\"text-align: right;\">\n",
              "      <th></th>\n",
              "      <th>review</th>\n",
              "      <th>sentiment</th>\n",
              "    </tr>\n",
              "  </thead>\n",
              "  <tbody>\n",
              "    <tr>\n",
              "      <th>0</th>\n",
              "      <td>the year is barely a week old , and there is a...</td>\n",
              "      <td>0</td>\n",
              "    </tr>\n",
              "    <tr>\n",
              "      <th>1</th>\n",
              "      <td>those of you who frequently read my reviews ar...</td>\n",
              "      <td>1</td>\n",
              "    </tr>\n",
              "    <tr>\n",
              "      <th>2</th>\n",
              "      <td>the promotion for fear and loathing in las veg...</td>\n",
              "      <td>1</td>\n",
              "    </tr>\n",
              "    <tr>\n",
              "      <th>3</th>\n",
              "      <td>synopsis : original \" jurassic park \" survivor...</td>\n",
              "      <td>0</td>\n",
              "    </tr>\n",
              "    <tr>\n",
              "      <th>4</th>\n",
              "      <td>it stands as a moment one will not soon forget...</td>\n",
              "      <td>1</td>\n",
              "    </tr>\n",
              "  </tbody>\n",
              "</table>\n",
              "</div>"
            ],
            "text/plain": [
              "                                              review sentiment\n",
              "0  the year is barely a week old , and there is a...         0\n",
              "1  those of you who frequently read my reviews ar...         1\n",
              "2  the promotion for fear and loathing in las veg...         1\n",
              "3  synopsis : original \" jurassic park \" survivor...         0\n",
              "4  it stands as a moment one will not soon forget...         1"
            ]
          },
          "metadata": {
            "tags": []
          },
          "execution_count": 8
        }
      ]
    },
    {
      "cell_type": "markdown",
      "metadata": {
        "id": "FkAERa5dVHv9"
      },
      "source": [
        "# TF-IDF"
      ]
    },
    {
      "cell_type": "markdown",
      "metadata": {
        "id": "PJyY4LZPU55l"
      },
      "source": [
        "## TF-IDF analyzer"
      ]
    },
    {
      "cell_type": "code",
      "metadata": {
        "id": "nLdmx4ZHkoWc"
      },
      "source": [
        "def analyzer(text):\n",
        "    # Clean HTML tags\n",
        "    filtered_text = BeautifulSoup(text).get_text()\n",
        "    # Expand contractions\n",
        "    filtered_text = contractions.fix(filtered_text)\n",
        "    # Remove punctuation\n",
        "    # filtered_text = re.sub(\"[^a-zA-Z]\",\" \", filtered_text)\n",
        "    filtered_text = re.sub(r'/', ' ', filtered_text)\n",
        "    filtered_text = re.sub(r'[^\\w\\s]', '', filtered_text)\n",
        "    # Tokenize\n",
        "    words = filtered_text.lower().split()\n",
        "    # Remove stopwords\n",
        "    stops = set(stopwords.words(\"english\"))\n",
        "    words = [w for w in words if not w in stops]\n",
        "    # Lemmatize\n",
        "    lemmatizer = WordNetLemmatizer()\n",
        "    words = [lemmatizer.lemmatize(w, pos=\"v\") for w in words]\n",
        "    words = [lemmatizer.lemmatize(w, pos=\"n\") for w in words]\n",
        "    # Stemming\n",
        "    porter_stemmer = PorterStemmer()\n",
        "    words = [porter_stemmer.stem(w) for w in words]\n",
        "    return words\n"
      ],
      "execution_count": null,
      "outputs": []
    },
    {
      "cell_type": "code",
      "metadata": {
        "colab": {
          "base_uri": "https://localhost:8080/"
        },
        "id": "04ufNZf5oZpr",
        "outputId": "14855404-34c7-4ac6-a0da-de1db9408022"
      },
      "source": [
        "analyzer(\"He'd , a young child, was running/walking and/or eating at same time -bad comment at the time :)-. He has bad habit of swimming after playing long hours in the Sun.\")"
      ],
      "execution_count": null,
      "outputs": [
        {
          "output_type": "execute_result",
          "data": {
            "text/plain": [
              "['would',\n",
              " 'young',\n",
              " 'child',\n",
              " 'run',\n",
              " 'walk',\n",
              " 'eat',\n",
              " 'time',\n",
              " 'bad',\n",
              " 'comment',\n",
              " 'time',\n",
              " 'bad',\n",
              " 'habit',\n",
              " 'swim',\n",
              " 'play',\n",
              " 'long',\n",
              " 'hour',\n",
              " 'sun']"
            ]
          },
          "metadata": {
            "tags": []
          },
          "execution_count": 14
        }
      ]
    },
    {
      "cell_type": "markdown",
      "metadata": {
        "id": "8tesxoqZV2NE"
      },
      "source": [
        "## TF-IDF vectorizer"
      ]
    },
    {
      "cell_type": "code",
      "metadata": {
        "id": "NCNPy-oGmDBG"
      },
      "source": [
        "vectorizer = TfidfVectorizer(analyzer=analyzer) \n",
        "tfidf = vectorizer.fit_transform(df['text']) \n",
        "y =  df['sentiment']"
      ],
      "execution_count": null,
      "outputs": []
    },
    {
      "cell_type": "markdown",
      "metadata": {
        "id": "VEK8CS2BVL75"
      },
      "source": [
        "# Regression model"
      ]
    },
    {
      "cell_type": "markdown",
      "metadata": {
        "id": "QjXbYd6EUrM_"
      },
      "source": [
        "## test and train divide"
      ]
    },
    {
      "cell_type": "code",
      "metadata": {
        "id": "GeZBnCfeVakm"
      },
      "source": [
        "X_train,X_test,y_train,y_test = train_test_split(tfidf,y,test_size=0.3,random_state=0)"
      ],
      "execution_count": null,
      "outputs": []
    },
    {
      "cell_type": "markdown",
      "metadata": {
        "id": "xst9hOlFWvra"
      },
      "source": [
        "## Logistic regression model"
      ]
    },
    {
      "cell_type": "code",
      "metadata": {
        "colab": {
          "base_uri": "https://localhost:8080/"
        },
        "id": "ZnqB_8ieWzVi",
        "outputId": "384fdb6f-4561-4df1-b5c5-ace7efc01857"
      },
      "source": [
        "model = LogisticRegressionCV(cv=5, scoring='accuracy', random_state=0, n_jobs=-1, verbose=3, max_iter=300).fit(X_train,y_train)"
      ],
      "execution_count": null,
      "outputs": [
        {
          "output_type": "stream",
          "text": [
            "[Parallel(n_jobs=-1)]: Using backend LokyBackend with 2 concurrent workers.\n",
            "[Parallel(n_jobs=-1)]: Done   5 out of   5 | elapsed:   13.5s finished\n"
          ],
          "name": "stderr"
        }
      ]
    },
    {
      "cell_type": "markdown",
      "metadata": {
        "id": "IhJxaBnGVi2h"
      },
      "source": [
        "# Test"
      ]
    },
    {
      "cell_type": "code",
      "metadata": {
        "colab": {
          "base_uri": "https://localhost:8080/"
        },
        "id": "0F16Xdo2XK6p",
        "outputId": "c304524c-410d-44df-a2a5-a42757a864aa"
      },
      "source": [
        "model.score(X_test,y_test)"
      ],
      "execution_count": null,
      "outputs": [
        {
          "output_type": "execute_result",
          "data": {
            "text/plain": [
              "0.8283333333333334"
            ]
          },
          "metadata": {
            "tags": []
          },
          "execution_count": 21
        }
      ]
    },
    {
      "cell_type": "code",
      "metadata": {
        "colab": {
          "base_uri": "https://localhost:8080/"
        },
        "id": "sqbU21b4XVkQ",
        "outputId": "6028646d-1f42-4f28-f91c-8b32c3706f03"
      },
      "source": [
        "#to predict\n",
        "query = [\"Worst movie I have ever seen in my entire life\",\n",
        "         \"greatest plot ever, it was a master piece\",\n",
        "         \"The movie was meh, not much to be a fan of\",\n",
        "         \"I liked it a lot, the hero was smart and the female lead was amazing\"]\n",
        "\n",
        "features = vectorizer.transform(query)\n",
        "model.predict(features)"
      ],
      "execution_count": null,
      "outputs": [
        {
          "output_type": "execute_result",
          "data": {
            "text/plain": [
              "array([0, 1, 0, 1])"
            ]
          },
          "metadata": {
            "tags": []
          },
          "execution_count": 47
        }
      ]
    }
  ]
}